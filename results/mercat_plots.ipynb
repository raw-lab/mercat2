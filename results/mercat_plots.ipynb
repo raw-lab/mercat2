{
 "cells": [
  {
   "cell_type": "code",
   "execution_count": 39,
   "metadata": {},
   "outputs": [],
   "source": [
    "# time,size,memory_usage\n",
    "list1=[(5.33,0.3,2912114),(42.66,3.1,2954884),(89.76,7.9,3096944),(41.7,3,2952112),(61.65,5.4,2991332)]"
   ]
  },
  {
   "cell_type": "code",
   "execution_count": 40,
   "metadata": {},
   "outputs": [],
   "source": [
    "size=[m for (l,m,n) in list1]\n",
    "memory=[n*1.0/1024 for (l,m,n) in list1]\n",
    "time=[l for (l,m,n) in list1]"
   ]
  },
  {
   "cell_type": "code",
   "execution_count": 41,
   "metadata": {},
   "outputs": [],
   "source": [
    "size.sort()\n",
    "time.sort()\n",
    "memory.sort()"
   ]
  },
  {
   "cell_type": "code",
   "execution_count": 42,
   "metadata": {},
   "outputs": [
    {
     "name": "stdout",
     "output_type": "stream",
     "text": [
      "[0.3, 3, 3.1, 5.4, 7.9] [5.33, 41.7, 42.66, 61.65, 89.76]\n"
     ]
    }
   ],
   "source": [
    "print(size,time)"
   ]
  },
  {
   "cell_type": "code",
   "execution_count": 64,
   "metadata": {},
   "outputs": [
    {
     "data": {
      "text/plain": [
       "'temp-plot.html'"
      ]
     },
     "execution_count": 64,
     "metadata": {},
     "output_type": "execute_result"
    }
   ],
   "source": [
    "# size and memory\n",
    "\n",
    "\n",
    "import plotly.graph_objects as go\n",
    "import numpy as np\n",
    "from plotly.offline import plot\n",
    "x = np.arange(10)\n",
    "\n",
    "fig = go.Figure(data=go.Scatter(x=size, y=memory,line = dict(color='black', width=2)))\n",
    "fig.update_layout(\n",
    "                  title={\n",
    "        'text': \"Size and Memory\",\n",
    "        'y':0.9,\n",
    "        'x':0.5,\n",
    "        'xanchor': 'center',\n",
    "        'yanchor': 'top',\n",
    "                }\n",
    "                  ,\n",
    "                   xaxis_title='Size in MBs',\n",
    "                   yaxis_title='Memory in MBs',\n",
    "                   plot_bgcolor='rgba(0,0,0,0)',\n",
    "                  font=dict(size=35),\n",
    "                                 \n",
    "                 )\n",
    "\n",
    "fig.update_xaxes(showline=True, linewidth=2, linecolor='black',titlefont=dict(size=30))\n",
    "fig.update_yaxes(showline=True, linewidth=2, linecolor='black',titlefont=dict(size=30))\n",
    "\n",
    "# fig.show()\n",
    "plot(fig)"
   ]
  },
  {
   "cell_type": "code",
   "execution_count": 65,
   "metadata": {},
   "outputs": [
    {
     "data": {
      "text/plain": [
       "'temp-plot.html'"
      ]
     },
     "execution_count": 65,
     "metadata": {},
     "output_type": "execute_result"
    }
   ],
   "source": [
    "# time and size\n",
    "\n",
    "import plotly.graph_objects as go\n",
    "import numpy as np\n",
    "from plotly.offline import plot\n",
    "x = np.arange(10)\n",
    "\n",
    "fig = go.Figure(data=go.Scatter(x=size, y=time,line = dict(color='black', width=2)))\n",
    "fig.update_layout(\n",
    "                  title={\n",
    "        'text': \"Size and Time\",\n",
    "        'y':0.9,\n",
    "        'x':0.5,\n",
    "        'xanchor': 'center',\n",
    "        'yanchor': 'top',\n",
    "                },\n",
    "                   xaxis_title='Size in MBs',\n",
    "                   yaxis_title='Time in min',\n",
    "                 plot_bgcolor='rgba(0,0,0,0)',\n",
    "font=dict(size=35))\n",
    "\n",
    "fig.update_xaxes(showline=True, linewidth=2, linecolor='black',titlefont=dict(size=35))\n",
    "fig.update_yaxes(showline=True, linewidth=2, linecolor='black',titlefont=dict(size=35))\n",
    "# fig.show()\n",
    "plot(fig)"
   ]
  },
  {
   "cell_type": "code",
   "execution_count": null,
   "metadata": {},
   "outputs": [],
   "source": []
  }
 ],
 "metadata": {
  "kernelspec": {
   "display_name": "Python 3",
   "language": "python",
   "name": "python3"
  },
  "language_info": {
   "codemirror_mode": {
    "name": "ipython",
    "version": 3
   },
   "file_extension": ".py",
   "mimetype": "text/x-python",
   "name": "python",
   "nbconvert_exporter": "python",
   "pygments_lexer": "ipython3",
   "version": "3.8.3"
  }
 },
 "nbformat": 4,
 "nbformat_minor": 4
}
